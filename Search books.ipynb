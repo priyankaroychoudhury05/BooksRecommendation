{
 "cells": [
  {
   "cell_type": "code",
   "execution_count": 2,
   "id": "ea3edda9",
   "metadata": {
    "scrolled": true
   },
   "outputs": [
    {
     "name": "stdout",
     "output_type": "stream",
     "text": [
      "14471322\n"
     ]
    }
   ],
   "source": [
    "#Count how many lines our zipped folder contains\n",
    "!type \"C:\\Users\\priyanka.roychoudhur\\Desktop\\DS\\BooksRecommendation\\goodreads_books.json.gz\" | find /c /v \"\""
   ]
  },
  {
   "cell_type": "code",
   "execution_count": 3,
   "id": "b85c2ab4",
   "metadata": {},
   "outputs": [
    {
     "name": "stdout",
     "output_type": "stream",
     "text": [
      " Volume in drive C is OS\n",
      " Volume Serial Number is C084-E4B0\n",
      "\n",
      " Directory of C:\\Users\\priyanka.roychoudhur\\desktop\\DS\\BooksRecommendation\n",
      "\n",
      "12/12/2022  15:06     2,078,599,273 goodreads_books.json.gz\n",
      "               1 File(s)  2,078,599,273 bytes\n",
      "               0 Dir(s)  1,520,926,404,608 bytes free\n"
     ]
    }
   ],
   "source": [
    "#Size of the file 1 GB = 1,000,000,000 B\n",
    "!dir goodreads_books.json.gz /O:E"
   ]
  },
  {
   "cell_type": "code",
   "execution_count": 4,
   "id": "681bd050",
   "metadata": {},
   "outputs": [
    {
     "data": {
      "text/plain": [
       "b'{\"isbn\": \"0312853122\", \"text_reviews_count\": \"1\", \"series\": [], \"country_code\": \"US\", \"language_code\": \"\", \"popular_shelves\": [{\"count\": \"3\", \"name\": \"to-read\"}, {\"count\": \"1\", \"name\": \"p\"}, {\"count\": \"1\", \"name\": \"collection\"}, {\"count\": \"1\", \"name\": \"w-c-fields\"}, {\"count\": \"1\", \"name\": \"biography\"}], \"asin\": \"\", \"is_ebook\": \"false\", \"average_rating\": \"4.00\", \"kindle_asin\": \"\", \"similar_books\": [], \"description\": \"\", \"format\": \"Paperback\", \"link\": \"https://www.goodreads.com/book/show/5333265-w-c-fields\", \"authors\": [{\"author_id\": \"604031\", \"role\": \"\"}], \"publisher\": \"St. Martin\\'s Press\", \"num_pages\": \"256\", \"publication_day\": \"1\", \"isbn13\": \"9780312853129\", \"publication_month\": \"9\", \"edition_information\": \"\", \"publication_year\": \"1984\", \"url\": \"https://www.goodreads.com/book/show/5333265-w-c-fields\", \"image_url\": \"https://images.gr-assets.com/books/1310220028m/5333265.jpg\", \"book_id\": \"5333265\", \"ratings_count\": \"3\", \"work_id\": \"5400751\", \"title\": \"W.C. Fields: A Life on Film\", \"title_without_series\": \"W.C. Fields: A Life on Film\"}\\n'"
      ]
     },
     "execution_count": 4,
     "metadata": {},
     "output_type": "execute_result"
    }
   ],
   "source": [
    "#to avoid overloading the memory by loading the entire dataset, we read it line by line\n",
    "\n",
    "import gzip #to unzip the zipped folder\n",
    "\n",
    "with gzip.open(\"goodreads_books.json.gz\") as f:\n",
    "    line = f.readline()\n",
    "    \n",
    "line #one line from the json file"
   ]
  },
  {
   "cell_type": "code",
   "execution_count": 5,
   "id": "03b3e07a",
   "metadata": {
    "scrolled": true
   },
   "outputs": [
    {
     "data": {
      "text/plain": [
       "{'isbn': '0312853122',\n",
       " 'text_reviews_count': '1',\n",
       " 'series': [],\n",
       " 'country_code': 'US',\n",
       " 'language_code': '',\n",
       " 'popular_shelves': [{'count': '3', 'name': 'to-read'},\n",
       "  {'count': '1', 'name': 'p'},\n",
       "  {'count': '1', 'name': 'collection'},\n",
       "  {'count': '1', 'name': 'w-c-fields'},\n",
       "  {'count': '1', 'name': 'biography'}],\n",
       " 'asin': '',\n",
       " 'is_ebook': 'false',\n",
       " 'average_rating': '4.00',\n",
       " 'kindle_asin': '',\n",
       " 'similar_books': [],\n",
       " 'description': '',\n",
       " 'format': 'Paperback',\n",
       " 'link': 'https://www.goodreads.com/book/show/5333265-w-c-fields',\n",
       " 'authors': [{'author_id': '604031', 'role': ''}],\n",
       " 'publisher': \"St. Martin's Press\",\n",
       " 'num_pages': '256',\n",
       " 'publication_day': '1',\n",
       " 'isbn13': '9780312853129',\n",
       " 'publication_month': '9',\n",
       " 'edition_information': '',\n",
       " 'publication_year': '1984',\n",
       " 'url': 'https://www.goodreads.com/book/show/5333265-w-c-fields',\n",
       " 'image_url': 'https://images.gr-assets.com/books/1310220028m/5333265.jpg',\n",
       " 'book_id': '5333265',\n",
       " 'ratings_count': '3',\n",
       " 'work_id': '5400751',\n",
       " 'title': 'W.C. Fields: A Life on Film',\n",
       " 'title_without_series': 'W.C. Fields: A Life on Film'}"
      ]
     },
     "execution_count": 5,
     "metadata": {},
     "output_type": "execute_result"
    }
   ],
   "source": [
    "import json\n",
    "\n",
    "data = json.loads(line) # convert 1st entry of the json file to dictionary\n",
    "data"
   ]
  },
  {
   "cell_type": "code",
   "execution_count": 6,
   "id": "a60ab6c7",
   "metadata": {},
   "outputs": [],
   "source": [
    "# Define a function to reduce filesize by selecting only relevant features\n",
    "def get_fields(line):\n",
    "    data = json.loads(line)\n",
    "    return {\n",
    "        \"book_id\": data[\"book_id\"], \n",
    "        \"title\": data[\"title_without_series\"], \n",
    "        \"ratings\": data[\"ratings_count\"], \n",
    "        \"url\": data[\"url\"], \n",
    "        \"publication_year\": data[\"publication_year\"],\n",
    "        \"cover_image\": data[\"image_url\"]\n",
    "    }\n"
   ]
  },
  {
   "cell_type": "code",
   "execution_count": 7,
   "id": "57d09391",
   "metadata": {},
   "outputs": [],
   "source": [
    "books = []\n",
    "\n",
    "with gzip.open(\"goodreads_books.json.gz\") as f:\n",
    "    while True:\n",
    "        line = f.readline()\n",
    "        if not line:\n",
    "            break\n",
    "        fields = get_fields(line)\n",
    "        \n",
    "        books.append(fields)"
   ]
  },
  {
   "cell_type": "code",
   "execution_count": 8,
   "id": "28d7b4c0",
   "metadata": {},
   "outputs": [
    {
     "data": {
      "text/plain": [
       "{'book_id': '5333265',\n",
       " 'title': 'W.C. Fields: A Life on Film',\n",
       " 'ratings': '3',\n",
       " 'url': 'https://www.goodreads.com/book/show/5333265-w-c-fields',\n",
       " 'publication_year': '1984',\n",
       " 'cover_image': 'https://images.gr-assets.com/books/1310220028m/5333265.jpg'}"
      ]
     },
     "execution_count": 8,
     "metadata": {},
     "output_type": "execute_result"
    }
   ],
   "source": [
    "books[0]"
   ]
  },
  {
   "cell_type": "code",
   "execution_count": 9,
   "id": "9e24c2e8",
   "metadata": {},
   "outputs": [],
   "source": [
    "#load the dictionary into a pandas datatframe\n",
    "import pandas as pd\n",
    "\n",
    "books_df = pd.DataFrame.from_dict(books)"
   ]
  },
  {
   "cell_type": "code",
   "execution_count": 10,
   "id": "86a065b5",
   "metadata": {},
   "outputs": [
    {
     "data": {
      "text/plain": [
       "(2360655, 6)"
      ]
     },
     "execution_count": 10,
     "metadata": {},
     "output_type": "execute_result"
    }
   ],
   "source": [
    "books_df.shape"
   ]
  },
  {
   "cell_type": "code",
   "execution_count": 11,
   "id": "88168e96",
   "metadata": {},
   "outputs": [
    {
     "name": "stdout",
     "output_type": "stream",
     "text": [
      "<class 'pandas.core.frame.DataFrame'>\n",
      "RangeIndex: 2360655 entries, 0 to 2360654\n",
      "Data columns (total 6 columns):\n",
      " #   Column            Dtype \n",
      "---  ------            ----- \n",
      " 0   book_id           object\n",
      " 1   title             object\n",
      " 2   ratings           object\n",
      " 3   url               object\n",
      " 4   publication_year  object\n",
      " 5   cover_image       object\n",
      "dtypes: object(6)\n",
      "memory usage: 108.1+ MB\n"
     ]
    }
   ],
   "source": [
    "books_df.info()"
   ]
  },
  {
   "cell_type": "code",
   "execution_count": 12,
   "id": "a066ae4e",
   "metadata": {},
   "outputs": [
    {
     "name": "stdout",
     "output_type": "stream",
     "text": [
      "<class 'pandas.core.frame.DataFrame'>\n",
      "RangeIndex: 2360655 entries, 0 to 2360654\n",
      "Data columns (total 6 columns):\n",
      " #   Column            Dtype  \n",
      "---  ------            -----  \n",
      " 0   book_id           object \n",
      " 1   title             object \n",
      " 2   ratings           float64\n",
      " 3   url               object \n",
      " 4   publication_year  object \n",
      " 5   cover_image       object \n",
      "dtypes: float64(1), object(5)\n",
      "memory usage: 108.1+ MB\n"
     ]
    }
   ],
   "source": [
    "#We see that rating variable is an object. Rating is an ordinal variable i.e. it has a natural ordering 1<2<3<4<5.\n",
    "#So we convert this variable to numerical type\n",
    "\n",
    "books_df[\"ratings\"] = pd.to_numeric(books_df[\"ratings\"])\n",
    "books_df.info()"
   ]
  },
  {
   "cell_type": "code",
   "execution_count": 13,
   "id": "929d9dc1",
   "metadata": {
    "scrolled": true
   },
   "outputs": [
    {
     "data": {
      "text/html": [
       "<div>\n",
       "<style scoped>\n",
       "    .dataframe tbody tr th:only-of-type {\n",
       "        vertical-align: middle;\n",
       "    }\n",
       "\n",
       "    .dataframe tbody tr th {\n",
       "        vertical-align: top;\n",
       "    }\n",
       "\n",
       "    .dataframe thead th {\n",
       "        text-align: right;\n",
       "    }\n",
       "</style>\n",
       "<table border=\"1\" class=\"dataframe\">\n",
       "  <thead>\n",
       "    <tr style=\"text-align: right;\">\n",
       "      <th></th>\n",
       "      <th>book_id</th>\n",
       "      <th>title</th>\n",
       "      <th>ratings</th>\n",
       "      <th>url</th>\n",
       "      <th>publication_year</th>\n",
       "      <th>cover_image</th>\n",
       "    </tr>\n",
       "  </thead>\n",
       "  <tbody>\n",
       "    <tr>\n",
       "      <th>0</th>\n",
       "      <td>5333265</td>\n",
       "      <td>W.C. Fields: A Life on Film</td>\n",
       "      <td>3.0</td>\n",
       "      <td>https://www.goodreads.com/book/show/5333265-w-...</td>\n",
       "      <td>1984</td>\n",
       "      <td>https://images.gr-assets.com/books/1310220028m...</td>\n",
       "    </tr>\n",
       "    <tr>\n",
       "      <th>1</th>\n",
       "      <td>1333909</td>\n",
       "      <td>Good Harbor</td>\n",
       "      <td>10.0</td>\n",
       "      <td>https://www.goodreads.com/book/show/1333909.Go...</td>\n",
       "      <td>2001</td>\n",
       "      <td>https://s.gr-assets.com/assets/nophoto/book/11...</td>\n",
       "    </tr>\n",
       "    <tr>\n",
       "      <th>2</th>\n",
       "      <td>7327624</td>\n",
       "      <td>The Unschooled Wizard (Sun Wolf and Starhawk, ...</td>\n",
       "      <td>140.0</td>\n",
       "      <td>https://www.goodreads.com/book/show/7327624-th...</td>\n",
       "      <td>1987</td>\n",
       "      <td>https://images.gr-assets.com/books/1304100136m...</td>\n",
       "    </tr>\n",
       "    <tr>\n",
       "      <th>3</th>\n",
       "      <td>6066819</td>\n",
       "      <td>Best Friends Forever</td>\n",
       "      <td>51184.0</td>\n",
       "      <td>https://www.goodreads.com/book/show/6066819-be...</td>\n",
       "      <td>2009</td>\n",
       "      <td>https://s.gr-assets.com/assets/nophoto/book/11...</td>\n",
       "    </tr>\n",
       "    <tr>\n",
       "      <th>4</th>\n",
       "      <td>287140</td>\n",
       "      <td>Runic Astrology: Starcraft and Timekeeping in ...</td>\n",
       "      <td>15.0</td>\n",
       "      <td>https://www.goodreads.com/book/show/287140.Run...</td>\n",
       "      <td></td>\n",
       "      <td>https://images.gr-assets.com/books/1413219371m...</td>\n",
       "    </tr>\n",
       "  </tbody>\n",
       "</table>\n",
       "</div>"
      ],
      "text/plain": [
       "   book_id                                              title  ratings  \\\n",
       "0  5333265                        W.C. Fields: A Life on Film      3.0   \n",
       "1  1333909                                        Good Harbor     10.0   \n",
       "2  7327624  The Unschooled Wizard (Sun Wolf and Starhawk, ...    140.0   \n",
       "3  6066819                               Best Friends Forever  51184.0   \n",
       "4   287140  Runic Astrology: Starcraft and Timekeeping in ...     15.0   \n",
       "\n",
       "                                                 url publication_year  \\\n",
       "0  https://www.goodreads.com/book/show/5333265-w-...             1984   \n",
       "1  https://www.goodreads.com/book/show/1333909.Go...             2001   \n",
       "2  https://www.goodreads.com/book/show/7327624-th...             1987   \n",
       "3  https://www.goodreads.com/book/show/6066819-be...             2009   \n",
       "4  https://www.goodreads.com/book/show/287140.Run...                    \n",
       "\n",
       "                                         cover_image  \n",
       "0  https://images.gr-assets.com/books/1310220028m...  \n",
       "1  https://s.gr-assets.com/assets/nophoto/book/11...  \n",
       "2  https://images.gr-assets.com/books/1304100136m...  \n",
       "3  https://s.gr-assets.com/assets/nophoto/book/11...  \n",
       "4  https://images.gr-assets.com/books/1413219371m...  "
      ]
     },
     "execution_count": 13,
     "metadata": {},
     "output_type": "execute_result"
    }
   ],
   "source": [
    "books_df.head()"
   ]
  },
  {
   "cell_type": "code",
   "execution_count": 14,
   "id": "e919b7c1",
   "metadata": {},
   "outputs": [
    {
     "data": {
      "text/plain": [
       "ratings             0.022197\n",
       "book_id             0.000000\n",
       "title               0.000000\n",
       "url                 0.000000\n",
       "publication_year    0.000000\n",
       "cover_image         0.000000\n",
       "dtype: float64"
      ]
     },
     "execution_count": 14,
     "metadata": {},
     "output_type": "execute_result"
    }
   ],
   "source": [
    "#Looking at any missing values in the data\n",
    "(books_df.isnull().sum()/books_df.shape[0]*100).sort_values(ascending=False)"
   ]
  },
  {
   "cell_type": "code",
   "execution_count": 15,
   "id": "638ddd9d",
   "metadata": {},
   "outputs": [
    {
     "data": {
      "text/plain": [
       "book_id             0\n",
       "title               0\n",
       "ratings             0\n",
       "url                 0\n",
       "publication_year    0\n",
       "cover_image         0\n",
       "dtype: int64"
      ]
     },
     "execution_count": 15,
     "metadata": {},
     "output_type": "execute_result"
    }
   ],
   "source": [
    "#Dropping data with null values in rating as we will need the ratings data\n",
    "books_df[\"ratings\"].isnull().sum()\n",
    "books_df2 = books_df.dropna() #dropping 524 rows\n",
    "books_df2.isnull().sum()"
   ]
  },
  {
   "cell_type": "code",
   "execution_count": 16,
   "id": "d42252ea",
   "metadata": {},
   "outputs": [
    {
     "name": "stderr",
     "output_type": "stream",
     "text": [
      "C:\\Users\\priyanka.roychoudhur\\AppData\\Local\\Temp\\ipykernel_27104\\2254380804.py:4: SettingWithCopyWarning: \n",
      "A value is trying to be set on a copy of a slice from a DataFrame.\n",
      "Try using .loc[row_indexer,col_indexer] = value instead\n",
      "\n",
      "See the caveats in the documentation: https://pandas.pydata.org/pandas-docs/stable/user_guide/indexing.html#returning-a-view-versus-a-copy\n",
      "  books_df2[\"clean_title\"] = books_df2[\"title\"].str.replace(\"[^a-zA-Z0-9 ]\", \"\", regex = True)\n"
     ]
    },
    {
     "data": {
      "text/html": [
       "<div>\n",
       "<style scoped>\n",
       "    .dataframe tbody tr th:only-of-type {\n",
       "        vertical-align: middle;\n",
       "    }\n",
       "\n",
       "    .dataframe tbody tr th {\n",
       "        vertical-align: top;\n",
       "    }\n",
       "\n",
       "    .dataframe thead th {\n",
       "        text-align: right;\n",
       "    }\n",
       "</style>\n",
       "<table border=\"1\" class=\"dataframe\">\n",
       "  <thead>\n",
       "    <tr style=\"text-align: right;\">\n",
       "      <th></th>\n",
       "      <th>clean_title</th>\n",
       "      <th>title</th>\n",
       "    </tr>\n",
       "  </thead>\n",
       "  <tbody>\n",
       "    <tr>\n",
       "      <th>0</th>\n",
       "      <td>WC Fields A Life on Film</td>\n",
       "      <td>W.C. Fields: A Life on Film</td>\n",
       "    </tr>\n",
       "    <tr>\n",
       "      <th>1</th>\n",
       "      <td>Good Harbor</td>\n",
       "      <td>Good Harbor</td>\n",
       "    </tr>\n",
       "    <tr>\n",
       "      <th>2</th>\n",
       "      <td>The Unschooled Wizard Sun Wolf and Starhawk 12</td>\n",
       "      <td>The Unschooled Wizard (Sun Wolf and Starhawk, ...</td>\n",
       "    </tr>\n",
       "    <tr>\n",
       "      <th>3</th>\n",
       "      <td>Best Friends Forever</td>\n",
       "      <td>Best Friends Forever</td>\n",
       "    </tr>\n",
       "    <tr>\n",
       "      <th>4</th>\n",
       "      <td>Runic Astrology Starcraft and Timekeeping in t...</td>\n",
       "      <td>Runic Astrology: Starcraft and Timekeeping in ...</td>\n",
       "    </tr>\n",
       "    <tr>\n",
       "      <th>...</th>\n",
       "      <td>...</td>\n",
       "      <td>...</td>\n",
       "    </tr>\n",
       "    <tr>\n",
       "      <th>2360650</th>\n",
       "      <td>This Sceptred Isle Vol 10 The Age of Victoria ...</td>\n",
       "      <td>This Sceptred Isle, Vol. 10: The Age of Victor...</td>\n",
       "    </tr>\n",
       "    <tr>\n",
       "      <th>2360651</th>\n",
       "      <td>Sherlock Holmes and the July Crisis</td>\n",
       "      <td>Sherlock Holmes and the July Crisis</td>\n",
       "    </tr>\n",
       "    <tr>\n",
       "      <th>2360652</th>\n",
       "      <td>The Childrens Classic Poetry Collection</td>\n",
       "      <td>The Children's Classic Poetry Collection</td>\n",
       "    </tr>\n",
       "    <tr>\n",
       "      <th>2360653</th>\n",
       "      <td>101 Nights Volume One 101 Nights 13</td>\n",
       "      <td>101 Nights: Volume One (101 Nights, #1-3)</td>\n",
       "    </tr>\n",
       "    <tr>\n",
       "      <th>2360654</th>\n",
       "      <td>The Spanish Dukes Virgin Bride Innocent Mistre...</td>\n",
       "      <td>The Spanish Duke's Virgin Bride (Innocent Mist...</td>\n",
       "    </tr>\n",
       "  </tbody>\n",
       "</table>\n",
       "<p>2360131 rows × 2 columns</p>\n",
       "</div>"
      ],
      "text/plain": [
       "                                               clean_title  \\\n",
       "0                                 WC Fields A Life on Film   \n",
       "1                                              Good Harbor   \n",
       "2           The Unschooled Wizard Sun Wolf and Starhawk 12   \n",
       "3                                     Best Friends Forever   \n",
       "4        Runic Astrology Starcraft and Timekeeping in t...   \n",
       "...                                                    ...   \n",
       "2360650  This Sceptred Isle Vol 10 The Age of Victoria ...   \n",
       "2360651                Sherlock Holmes and the July Crisis   \n",
       "2360652            The Childrens Classic Poetry Collection   \n",
       "2360653                101 Nights Volume One 101 Nights 13   \n",
       "2360654  The Spanish Dukes Virgin Bride Innocent Mistre...   \n",
       "\n",
       "                                                     title  \n",
       "0                              W.C. Fields: A Life on Film  \n",
       "1                                              Good Harbor  \n",
       "2        The Unschooled Wizard (Sun Wolf and Starhawk, ...  \n",
       "3                                     Best Friends Forever  \n",
       "4        Runic Astrology: Starcraft and Timekeeping in ...  \n",
       "...                                                    ...  \n",
       "2360650  This Sceptred Isle, Vol. 10: The Age of Victor...  \n",
       "2360651                Sherlock Holmes and the July Crisis  \n",
       "2360652           The Children's Classic Poetry Collection  \n",
       "2360653          101 Nights: Volume One (101 Nights, #1-3)  \n",
       "2360654  The Spanish Duke's Virgin Bride (Innocent Mist...  \n",
       "\n",
       "[2360131 rows x 2 columns]"
      ]
     },
     "execution_count": 16,
     "metadata": {},
     "output_type": "execute_result"
    }
   ],
   "source": [
    "#cleaning titles of books\n",
    "\n",
    "#remove anything in the titles that is not lowercase,uppercase, digits or a space\n",
    "books_df2[\"clean_title\"] = books_df2[\"title\"].str.replace(\"[^a-zA-Z0-9 ]\", \"\", regex = True) \n",
    "\n",
    "books_df2[[\"clean_title\", \"title\"]]"
   ]
  },
  {
   "cell_type": "code",
   "execution_count": 17,
   "id": "6eead476",
   "metadata": {
    "scrolled": true
   },
   "outputs": [
    {
     "name": "stderr",
     "output_type": "stream",
     "text": [
      "C:\\Users\\priyanka.roychoudhur\\AppData\\Local\\Temp\\ipykernel_27104\\2655590204.py:2: SettingWithCopyWarning: \n",
      "A value is trying to be set on a copy of a slice from a DataFrame.\n",
      "Try using .loc[row_indexer,col_indexer] = value instead\n",
      "\n",
      "See the caveats in the documentation: https://pandas.pydata.org/pandas-docs/stable/user_guide/indexing.html#returning-a-view-versus-a-copy\n",
      "  books_df2[\"clean_title\"] = books_df2[\"clean_title\"].str.lower()\n"
     ]
    }
   ],
   "source": [
    "# #make all strings lowercase\n",
    "books_df2[\"clean_title\"] = books_df2[\"clean_title\"].str.lower()\n",
    "\n",
    "# books_df2[[\"clean_title\", \"title\"]]"
   ]
  },
  {
   "cell_type": "code",
   "execution_count": 18,
   "id": "2e3808aa",
   "metadata": {
    "scrolled": true
   },
   "outputs": [
    {
     "name": "stderr",
     "output_type": "stream",
     "text": [
      "C:\\Users\\priyanka.roychoudhur\\AppData\\Local\\Temp\\ipykernel_27104\\2269553786.py:2: SettingWithCopyWarning: \n",
      "A value is trying to be set on a copy of a slice from a DataFrame.\n",
      "Try using .loc[row_indexer,col_indexer] = value instead\n",
      "\n",
      "See the caveats in the documentation: https://pandas.pydata.org/pandas-docs/stable/user_guide/indexing.html#returning-a-view-versus-a-copy\n",
      "  books_df2[\"clean_title\"] = books_df2[\"clean_title\"].str.replace(\"\\s+\", \" \", regex=True)\n"
     ]
    }
   ],
   "source": [
    "#Removing any extra whitespace\n",
    "books_df2[\"clean_title\"] = books_df2[\"clean_title\"].str.replace(\"\\s+\", \" \", regex=True)"
   ]
  },
  {
   "cell_type": "code",
   "execution_count": null,
   "id": "b8031f77",
   "metadata": {
    "scrolled": true
   },
   "outputs": [],
   "source": [
    "books_df2[\"clean_title\"].value_counts() "
   ]
  },
  {
   "cell_type": "code",
   "execution_count": 20,
   "id": "41be371e",
   "metadata": {},
   "outputs": [
    {
     "data": {
      "text/plain": [
       "(2346577, 7)"
      ]
     },
     "execution_count": 20,
     "metadata": {},
     "output_type": "execute_result"
    }
   ],
   "source": [
    "#Keepings only rows where there is a book title\n",
    "books_df2 = books_df2[books_df2[\"clean_title\"].str.len()>0] # this drops number of rows from 2360131 to 2360124\n",
    "\n",
    "books_df2.shape"
   ]
  },
  {
   "cell_type": "code",
   "execution_count": 21,
   "id": "ba295934",
   "metadata": {},
   "outputs": [],
   "source": [
    "books_df2.to_json(\"books_titles.json\")"
   ]
  },
  {
   "cell_type": "markdown",
   "id": "a89e1c99",
   "metadata": {},
   "source": [
    "Machine learning algorithms often use numerical data, so when dealing with textual data or any natural language processing (NLP) task, a sub-field of ML/AI dealing with text, that data first needs to be converted to a vector of numerical data by a process known as vectorization. TF-IDF vectorization involves calculating the TF-IDF score for every word in your corpus relative to that document and then putting that information into a vector (see image below using example documents “A” and “B”). Thus each document in your corpus would have its own vector, and the vector would have a TF-IDF score for every single word in the entire collection of documents.\n",
    "\n",
    "(TF)Term frequency works by looking at the frequency of a particular term you are concerned with relative to the document.  \n",
    "(IDF) Inverse document frequency looks at how common (or uncommon) a word is amongst the corpus."
   ]
  },
  {
   "cell_type": "code",
   "execution_count": 22,
   "id": "31a9dc70",
   "metadata": {},
   "outputs": [],
   "source": [
    "from sklearn.feature_extraction.text import TfidfVectorizer\n",
    "#Convert a collection of raw documents to a matrix of TF-IDF features. \n",
    "#quantify the importance or relevance of string representations (words, phrases, lemmas, etc)  in a document amongst a collection of documents \n",
    "\n",
    "#initialise it \n",
    "vectoriser = TfidfVectorizer() #To compute the cosine similarity, we need the word count of the words in each document.\n",
    "\n",
    "tfidf = vectoriser.fit_transform(books_df2[\"clean_title\"])# create the document term matrix\n",
    "\n",
    "#used the TfidfVectorizer() instead of CountVectorizer(), because it  downweights words that occur frequently across docuemnts.\n"
   ]
  },
  {
   "cell_type": "markdown",
   "id": "aec378f2",
   "metadata": {},
   "source": [
    "Counting the maximum number of common words between the documents. But as the size of the document increases, the number of common words tend to increase even if the documents talk about different topics. \n",
    "Cosine similarity is a metric used to determine how similar the documents are irrespective of their size. Cosine similarity measures the cosine of the angle between two vectors projected in a multi-dimensional space."
   ]
  },
  {
   "cell_type": "code",
   "execution_count": 23,
   "id": "6c221f9d",
   "metadata": {},
   "outputs": [],
   "source": [
    "from sklearn.metrics.pairwise import cosine_similarity\n",
    "import re\n",
    "import numpy as np\n",
    "\n",
    "def search(query):\n",
    "    clean_query = re.sub(\"[^a-zA-Z0-9 ]\", \"\", query.lower())\n",
    "    query_vec = vectoriser.transform([clean_query]) # converts the query into a vector\n",
    "    similarity = cosine_similarity (query_vec, tfidf).flatten() # to get a numpy array\n",
    "    indices = np.argpartition(similarity, -5)[-5:] # get the 5 most similar books and for that we want the indices\n",
    "    results = books_df2.iloc[indices] # give us the book title rows from our dataset\n",
    "    results = results.sort_values(\"ratings\", ascending = False) #sort the rows with highest rated title at the top\n",
    "    return results.head()"
   ]
  },
  {
   "cell_type": "code",
   "execution_count": 27,
   "id": "6892d08d",
   "metadata": {},
   "outputs": [
    {
     "data": {
      "text/html": [
       "<div>\n",
       "<style scoped>\n",
       "    .dataframe tbody tr th:only-of-type {\n",
       "        vertical-align: middle;\n",
       "    }\n",
       "\n",
       "    .dataframe tbody tr th {\n",
       "        vertical-align: top;\n",
       "    }\n",
       "\n",
       "    .dataframe thead th {\n",
       "        text-align: right;\n",
       "    }\n",
       "</style>\n",
       "<table border=\"1\" class=\"dataframe\">\n",
       "  <thead>\n",
       "    <tr style=\"text-align: right;\">\n",
       "      <th></th>\n",
       "      <th>book_id</th>\n",
       "      <th>title</th>\n",
       "      <th>ratings</th>\n",
       "      <th>url</th>\n",
       "      <th>publication_year</th>\n",
       "      <th>cover_image</th>\n",
       "      <th>clean_title</th>\n",
       "    </tr>\n",
       "  </thead>\n",
       "  <tbody>\n",
       "    <tr>\n",
       "      <th>128635</th>\n",
       "      <td>41567</td>\n",
       "      <td>The Handmaid's Tale</td>\n",
       "      <td>1134.0</td>\n",
       "      <td>https://www.goodreads.com/book/show/41567.The_...</td>\n",
       "      <td>2006</td>\n",
       "      <td>https://images.gr-assets.com/books/1320425957m...</td>\n",
       "      <td>the handmaids tale</td>\n",
       "    </tr>\n",
       "    <tr>\n",
       "      <th>304964</th>\n",
       "      <td>34729940</td>\n",
       "      <td>The Handmaid's Tale</td>\n",
       "      <td>378.0</td>\n",
       "      <td>https://www.goodreads.com/book/show/34729940-t...</td>\n",
       "      <td>2017</td>\n",
       "      <td>https://images.gr-assets.com/books/1492272668m...</td>\n",
       "      <td>the handmaids tale</td>\n",
       "    </tr>\n",
       "    <tr>\n",
       "      <th>1977105</th>\n",
       "      <td>6508785</td>\n",
       "      <td>The Handmaid's Tale</td>\n",
       "      <td>203.0</td>\n",
       "      <td>https://www.goodreads.com/book/show/6508785-th...</td>\n",
       "      <td>1996</td>\n",
       "      <td>https://s.gr-assets.com/assets/nophoto/book/11...</td>\n",
       "      <td>the handmaids tale</td>\n",
       "    </tr>\n",
       "    <tr>\n",
       "      <th>552188</th>\n",
       "      <td>998834</td>\n",
       "      <td>Handmaid's Tale</td>\n",
       "      <td>15.0</td>\n",
       "      <td>https://www.goodreads.com/book/show/998834.Han...</td>\n",
       "      <td>1988</td>\n",
       "      <td>https://s.gr-assets.com/assets/nophoto/book/11...</td>\n",
       "      <td>handmaids tale</td>\n",
       "    </tr>\n",
       "    <tr>\n",
       "      <th>1508664</th>\n",
       "      <td>33844877</td>\n",
       "      <td>The Handmaid's Tale</td>\n",
       "      <td>1.0</td>\n",
       "      <td>https://www.goodreads.com/book/show/33844877-t...</td>\n",
       "      <td>2009</td>\n",
       "      <td>https://images.gr-assets.com/books/1484245774m...</td>\n",
       "      <td>the handmaids tale</td>\n",
       "    </tr>\n",
       "  </tbody>\n",
       "</table>\n",
       "</div>"
      ],
      "text/plain": [
       "          book_id                title  ratings  \\\n",
       "128635      41567  The Handmaid's Tale   1134.0   \n",
       "304964   34729940  The Handmaid's Tale    378.0   \n",
       "1977105   6508785  The Handmaid's Tale    203.0   \n",
       "552188     998834      Handmaid's Tale     15.0   \n",
       "1508664  33844877  The Handmaid's Tale      1.0   \n",
       "\n",
       "                                                       url publication_year  \\\n",
       "128635   https://www.goodreads.com/book/show/41567.The_...             2006   \n",
       "304964   https://www.goodreads.com/book/show/34729940-t...             2017   \n",
       "1977105  https://www.goodreads.com/book/show/6508785-th...             1996   \n",
       "552188   https://www.goodreads.com/book/show/998834.Han...             1988   \n",
       "1508664  https://www.goodreads.com/book/show/33844877-t...             2009   \n",
       "\n",
       "                                               cover_image         clean_title  \n",
       "128635   https://images.gr-assets.com/books/1320425957m...  the handmaids tale  \n",
       "304964   https://images.gr-assets.com/books/1492272668m...  the handmaids tale  \n",
       "1977105  https://s.gr-assets.com/assets/nophoto/book/11...  the handmaids tale  \n",
       "552188   https://s.gr-assets.com/assets/nophoto/book/11...      handmaids tale  \n",
       "1508664  https://images.gr-assets.com/books/1484245774m...  the handmaids tale  "
      ]
     },
     "execution_count": 27,
     "metadata": {},
     "output_type": "execute_result"
    }
   ],
   "source": [
    "search(\"Handmaid's Tale\")"
   ]
  },
  {
   "cell_type": "code",
   "execution_count": 25,
   "id": "2f85092d",
   "metadata": {},
   "outputs": [
    {
     "ename": "KeyboardInterrupt",
     "evalue": "Interrupted by user",
     "output_type": "error",
     "traceback": [
      "\u001b[1;31m---------------------------------------------------------------------------\u001b[0m",
      "\u001b[1;31mKeyboardInterrupt\u001b[0m                         Traceback (most recent call last)",
      "Cell \u001b[1;32mIn [25], line 1\u001b[0m\n\u001b[1;32m----> 1\u001b[0m name \u001b[38;5;241m=\u001b[39m \u001b[38;5;28;43minput\u001b[39;49m\u001b[43m(\u001b[49m\u001b[43m)\u001b[49m\n",
      "File \u001b[1;32m~\\AppData\\Roaming\\Python\\Python38\\site-packages\\ipykernel\\kernelbase.py:1177\u001b[0m, in \u001b[0;36mKernel.raw_input\u001b[1;34m(self, prompt)\u001b[0m\n\u001b[0;32m   1173\u001b[0m \u001b[38;5;28;01mif\u001b[39;00m \u001b[38;5;129;01mnot\u001b[39;00m \u001b[38;5;28mself\u001b[39m\u001b[38;5;241m.\u001b[39m_allow_stdin:\n\u001b[0;32m   1174\u001b[0m     \u001b[38;5;28;01mraise\u001b[39;00m StdinNotImplementedError(\n\u001b[0;32m   1175\u001b[0m         \u001b[38;5;124m\"\u001b[39m\u001b[38;5;124mraw_input was called, but this frontend does not support input requests.\u001b[39m\u001b[38;5;124m\"\u001b[39m\n\u001b[0;32m   1176\u001b[0m     )\n\u001b[1;32m-> 1177\u001b[0m \u001b[38;5;28;01mreturn\u001b[39;00m \u001b[38;5;28;43mself\u001b[39;49m\u001b[38;5;241;43m.\u001b[39;49m\u001b[43m_input_request\u001b[49m\u001b[43m(\u001b[49m\n\u001b[0;32m   1178\u001b[0m \u001b[43m    \u001b[49m\u001b[38;5;28;43mstr\u001b[39;49m\u001b[43m(\u001b[49m\u001b[43mprompt\u001b[49m\u001b[43m)\u001b[49m\u001b[43m,\u001b[49m\n\u001b[0;32m   1179\u001b[0m \u001b[43m    \u001b[49m\u001b[38;5;28;43mself\u001b[39;49m\u001b[38;5;241;43m.\u001b[39;49m\u001b[43m_parent_ident\u001b[49m\u001b[43m[\u001b[49m\u001b[38;5;124;43m\"\u001b[39;49m\u001b[38;5;124;43mshell\u001b[39;49m\u001b[38;5;124;43m\"\u001b[39;49m\u001b[43m]\u001b[49m\u001b[43m,\u001b[49m\n\u001b[0;32m   1180\u001b[0m \u001b[43m    \u001b[49m\u001b[38;5;28;43mself\u001b[39;49m\u001b[38;5;241;43m.\u001b[39;49m\u001b[43mget_parent\u001b[49m\u001b[43m(\u001b[49m\u001b[38;5;124;43m\"\u001b[39;49m\u001b[38;5;124;43mshell\u001b[39;49m\u001b[38;5;124;43m\"\u001b[39;49m\u001b[43m)\u001b[49m\u001b[43m,\u001b[49m\n\u001b[0;32m   1181\u001b[0m \u001b[43m    \u001b[49m\u001b[43mpassword\u001b[49m\u001b[38;5;241;43m=\u001b[39;49m\u001b[38;5;28;43;01mFalse\u001b[39;49;00m\u001b[43m,\u001b[49m\n\u001b[0;32m   1182\u001b[0m \u001b[43m\u001b[49m\u001b[43m)\u001b[49m\n",
      "File \u001b[1;32m~\\AppData\\Roaming\\Python\\Python38\\site-packages\\ipykernel\\kernelbase.py:1219\u001b[0m, in \u001b[0;36mKernel._input_request\u001b[1;34m(self, prompt, ident, parent, password)\u001b[0m\n\u001b[0;32m   1216\u001b[0m             \u001b[38;5;28;01mbreak\u001b[39;00m\n\u001b[0;32m   1217\u001b[0m \u001b[38;5;28;01mexcept\u001b[39;00m \u001b[38;5;167;01mKeyboardInterrupt\u001b[39;00m:\n\u001b[0;32m   1218\u001b[0m     \u001b[38;5;66;03m# re-raise KeyboardInterrupt, to truncate traceback\u001b[39;00m\n\u001b[1;32m-> 1219\u001b[0m     \u001b[38;5;28;01mraise\u001b[39;00m \u001b[38;5;167;01mKeyboardInterrupt\u001b[39;00m(\u001b[38;5;124m\"\u001b[39m\u001b[38;5;124mInterrupted by user\u001b[39m\u001b[38;5;124m\"\u001b[39m) \u001b[38;5;28;01mfrom\u001b[39;00m \u001b[38;5;28mNone\u001b[39m\n\u001b[0;32m   1220\u001b[0m \u001b[38;5;28;01mexcept\u001b[39;00m \u001b[38;5;167;01mException\u001b[39;00m:\n\u001b[0;32m   1221\u001b[0m     \u001b[38;5;28mself\u001b[39m\u001b[38;5;241m.\u001b[39mlog\u001b[38;5;241m.\u001b[39mwarning(\u001b[38;5;124m\"\u001b[39m\u001b[38;5;124mInvalid Message:\u001b[39m\u001b[38;5;124m\"\u001b[39m, exc_info\u001b[38;5;241m=\u001b[39m\u001b[38;5;28;01mTrue\u001b[39;00m)\n",
      "\u001b[1;31mKeyboardInterrupt\u001b[0m: Interrupted by user"
     ]
    }
   ],
   "source": [
    "#name = input()"
   ]
  },
  {
   "cell_type": "code",
   "execution_count": null,
   "id": "e7c5920e",
   "metadata": {},
   "outputs": [],
   "source": [
    "#Now this gives us a way where we can search for a book title in the list of books and get their book id."
   ]
  }
 ],
 "metadata": {
  "kernelspec": {
   "display_name": "Python 3 (ipykernel)",
   "language": "python",
   "name": "python3"
  },
  "language_info": {
   "codemirror_mode": {
    "name": "ipython",
    "version": 3
   },
   "file_extension": ".py",
   "mimetype": "text/x-python",
   "name": "python",
   "nbconvert_exporter": "python",
   "pygments_lexer": "ipython3",
   "version": "3.8.6"
  }
 },
 "nbformat": 4,
 "nbformat_minor": 5
}
